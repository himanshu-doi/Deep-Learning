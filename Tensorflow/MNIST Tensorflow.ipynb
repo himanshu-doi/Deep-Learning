{
 "cells": [
  {
   "cell_type": "code",
   "execution_count": 6,
   "metadata": {},
   "outputs": [
    {
     "name": "stdout",
     "output_type": "stream",
     "text": [
      "Extracting /tmp/data/train-images-idx3-ubyte.gz\n",
      "Extracting /tmp/data/train-labels-idx1-ubyte.gz\n",
      "Extracting /tmp/data/t10k-images-idx3-ubyte.gz\n",
      "Extracting /tmp/data/t10k-labels-idx1-ubyte.gz\n"
     ]
    }
   ],
   "source": [
    "from __future__ import division, print_function, absolute_import\n",
    "\n",
    "import tensorflow as tf\n",
    "\n",
    "## Import MNIST data\n",
    "from tensorflow.examples.tutorials.mnist import input_data\n",
    "mnist = input_data.read_data_sets(\"/tmp/data/\", one_hot=True)"
   ]
  },
  {
   "cell_type": "code",
   "execution_count": 2,
   "metadata": {
    "collapsed": true
   },
   "outputs": [],
   "source": [
    "## Training Parameters \n",
    "learning_rate = 0.001\n",
    "num_iter = 500\n",
    "batch_size = 128\n",
    "display_step = 10\n",
    "\n",
    "## Network Parameters\n",
    "num_input = 784 # MNIST data input (img shape: 28*28)\n",
    "num_classes = 10 # MNIST total classes (0-9 digits)\n",
    "dropout = 0.80 # Dropout, probability to keep units\n",
    "\n",
    "## tf Graph input\n",
    "X = tf.placeholder(tf.float32, [None, num_input])\n",
    "Y = tf.placeholder(tf.float32, [None, num_classes])\n",
    "keep_prob = tf.placeholder(tf.float32) # dropout (keep probability)"
   ]
  },
  {
   "cell_type": "code",
   "execution_count": 3,
   "metadata": {
    "collapsed": true
   },
   "outputs": [],
   "source": [
    "## Defining wrappers for convolution functions\n",
    "def conv2D(x,W,b,stride = 1):\n",
    "    x = tf.nn.conv2d(x, W, strides = [1,stride,stride,1], padding='SAME')\n",
    "    x = tf.nn.bias_add(x,b)\n",
    "    return tf.nn.relu(x)\n",
    "\n",
    "def max_pool(x,k=2,s=2):\n",
    "    return tf.nn.max_pool(x, ksize=[1,k,k,1],strides=[1,s,s,1], padding='SAME')\n",
    "    \n",
    "    \n",
    "## Creating convolution model\n",
    "def conv_net(x, weights, biases, dropout):\n",
    "    ## reshaping 1D vectors of 784 dimentions to image shape [28*28*1]\n",
    "    ## tensor input becomes 4D [Batch_size, height, width, channel]\n",
    "    x = tf.reshape(x, shape=[-1, 28, 28, 1])\n",
    "    \n",
    "    ## First convolution layer\n",
    "    conv1 = conv2D(x, weights['W1'], biases['b1'], stride = 1)\n",
    "    conv1 = max_pool(conv1, k=2, s=2)\n",
    "    \n",
    "    ## Second convolution layer\n",
    "    conv2 = conv2D(conv1, weights['W2'], biases['b2'], stride = 1)\n",
    "    conv2 = max_pool(conv2, k=2, s=2)\n",
    "    \n",
    "    ## Third convolution layer\n",
    "#     conv3 = conv2D(conv2, weights['W3'], biases['b3'], stride = 1)\n",
    "#     conv3 = max_pool(conv3, k=2, s=1) \n",
    "    \n",
    "    ## Fully connected layer\n",
    "    ## Reshaping the output from 3D image shape to 1D vectors for fully connected layers\n",
    "    fc1 = tf.reshape(conv2, [-1, weights['fw1'].get_shape().as_list()[0]])\n",
    "    fc1 = tf.add(tf.matmul(fc1, weights['fw1']), biases['fb1'])\n",
    "    fc1 = tf.nn.relu(fc1)\n",
    "\n",
    "    ## Applying Dropout\n",
    "    fc1 = tf.nn.dropout(fc1, dropout)\n",
    "    \n",
    "    ## Output class prediction\n",
    "    out = tf.add(tf.matmul(fc1, weights['out']), biases['out'])\n",
    "    return out"
   ]
  },
  {
   "cell_type": "code",
   "execution_count": 4,
   "metadata": {},
   "outputs": [
    {
     "name": "stdout",
     "output_type": "stream",
     "text": [
      "WARNING:tensorflow:From <ipython-input-4-c135c5c9a15b>:29: softmax_cross_entropy_with_logits (from tensorflow.python.ops.nn_ops) is deprecated and will be removed in a future version.\n",
      "Instructions for updating:\n",
      "\n",
      "Future major versions of TensorFlow will allow gradients to flow\n",
      "into the labels input on backprop by default.\n",
      "\n",
      "See @{tf.nn.softmax_cross_entropy_with_logits_v2}.\n",
      "\n"
     ]
    }
   ],
   "source": [
    "tf.set_random_seed(42)\n",
    "## Initializing layer weights & biases\n",
    "weights = {\n",
    "    # 5x5 conv, 1 input, 32 outputs\n",
    "    'W1': tf.Variable(tf.random_normal([5, 5, 1, 32])),\n",
    "    # 5x5 conv, 32 inputs, 64 outputs\n",
    "    'W2': tf.Variable(tf.random_normal([5, 5, 32, 64])),\n",
    "#     3x3 conv, 64 inputs, 64 outputs\n",
    "#     'W3': tf.Variable(tf.random_normal([3, 3, 64, 64])),\n",
    "    # fully connected, 7*7*64 inputs, 1024 outputs\n",
    "    'fw1': tf.Variable(tf.random_normal([7*7*64, 1024])),\n",
    "    # 1024 inputs, 10 outputs (class prediction)\n",
    "    'out': tf.Variable(tf.random_normal([1024, num_classes]))\n",
    "}\n",
    "\n",
    "biases = {\n",
    "    'b1': tf.Variable(tf.random_normal([32])),\n",
    "    'b2': tf.Variable(tf.random_normal([64])),\n",
    "#     'b3': tf.Variable(tf.random_normal([64])),\n",
    "    'fb1': tf.Variable(tf.random_normal([1024])),\n",
    "    'out': tf.Variable(tf.random_normal([num_classes]))\n",
    "}\n",
    "\n",
    "## Obtaining predictions using softmax layer\n",
    "logits = conv_net(X, weights, biases, keep_prob)\n",
    "prediction = tf.nn.softmax(logits)\n",
    "\n",
    "## Define loss and optimizer\n",
    "loss_op = tf.reduce_mean(tf.nn.softmax_cross_entropy_with_logits(logits=logits, labels=Y))\n",
    "optimizer = tf.train.AdamOptimizer(learning_rate=learning_rate)\n",
    "train_op = optimizer.minimize(loss_op)\n",
    "\n",
    "\n",
    "## Evaluate model\n",
    "correct_pred = tf.equal(tf.argmax(prediction, 1), tf.argmax(Y, 1))\n",
    "accuracy = tf.reduce_mean(tf.cast(correct_pred, tf.float32))\n",
    "## Initialize the variables (i.e. assign their default value)\n",
    "init = tf.global_variables_initializer()\n",
    "\n",
    "tf.summary.scalar('accuracy',accuracy)\n",
    "tf.summary.scalar('loss',loss_op)\n",
    "merged = tf.summary.merge_all()\n",
    "    \n",
    "writer = tf.summary.FileWriter('./MNIST', tf.get_default_graph())"
   ]
  },
  {
   "cell_type": "code",
   "execution_count": 5,
   "metadata": {},
   "outputs": [
    {
     "name": "stdout",
     "output_type": "stream",
     "text": [
      "Step 1, Minibatch Loss= 57729.7773, Training Accuracy= 0.102\n",
      "Step 10, Minibatch Loss= 20491.8008, Training Accuracy= 0.320\n",
      "Step 20, Minibatch Loss= 8457.9629, Training Accuracy= 0.555\n",
      "Step 30, Minibatch Loss= 7050.4365, Training Accuracy= 0.641\n",
      "Step 40, Minibatch Loss= 5656.5430, Training Accuracy= 0.695\n",
      "Step 50, Minibatch Loss= 3850.0415, Training Accuracy= 0.805\n",
      "Step 60, Minibatch Loss= 2168.4045, Training Accuracy= 0.820\n",
      "Step 70, Minibatch Loss= 1045.3065, Training Accuracy= 0.898\n",
      "Step 80, Minibatch Loss= 1720.8219, Training Accuracy= 0.891\n",
      "Step 90, Minibatch Loss= 1155.6749, Training Accuracy= 0.914\n",
      "Step 100, Minibatch Loss= 1675.8074, Training Accuracy= 0.891\n",
      "Step 110, Minibatch Loss= 2080.1138, Training Accuracy= 0.891\n",
      "Step 120, Minibatch Loss= 729.0461, Training Accuracy= 0.914\n",
      "Step 130, Minibatch Loss= 1316.6907, Training Accuracy= 0.875\n",
      "Step 140, Minibatch Loss= 2814.5793, Training Accuracy= 0.883\n",
      "Step 150, Minibatch Loss= 1305.0361, Training Accuracy= 0.945\n",
      "Step 160, Minibatch Loss= 1391.0724, Training Accuracy= 0.875\n",
      "Step 170, Minibatch Loss= 1442.5869, Training Accuracy= 0.891\n",
      "Step 180, Minibatch Loss= 1429.1962, Training Accuracy= 0.898\n",
      "Step 190, Minibatch Loss= 1817.6345, Training Accuracy= 0.883\n",
      "Step 200, Minibatch Loss= 1294.1208, Training Accuracy= 0.938\n",
      "Step 210, Minibatch Loss= 1401.2280, Training Accuracy= 0.898\n",
      "Step 220, Minibatch Loss= 1688.7422, Training Accuracy= 0.891\n",
      "Step 230, Minibatch Loss= 1479.2009, Training Accuracy= 0.938\n",
      "Step 240, Minibatch Loss= 690.8671, Training Accuracy= 0.922\n",
      "Step 250, Minibatch Loss= 773.1727, Training Accuracy= 0.953\n",
      "Step 260, Minibatch Loss= 928.7598, Training Accuracy= 0.938\n",
      "Step 270, Minibatch Loss= 760.8696, Training Accuracy= 0.938\n",
      "Step 280, Minibatch Loss= 992.0172, Training Accuracy= 0.953\n",
      "Step 290, Minibatch Loss= 994.2529, Training Accuracy= 0.906\n",
      "Step 300, Minibatch Loss= 676.8637, Training Accuracy= 0.953\n",
      "Step 310, Minibatch Loss= 796.8689, Training Accuracy= 0.922\n",
      "Step 320, Minibatch Loss= 825.2744, Training Accuracy= 0.938\n",
      "Step 330, Minibatch Loss= 491.8341, Training Accuracy= 0.969\n",
      "Step 340, Minibatch Loss= 488.8695, Training Accuracy= 0.938\n",
      "Step 350, Minibatch Loss= 752.6263, Training Accuracy= 0.953\n",
      "Step 360, Minibatch Loss= 487.4936, Training Accuracy= 0.953\n",
      "Step 370, Minibatch Loss= 1260.8441, Training Accuracy= 0.938\n",
      "Step 380, Minibatch Loss= 806.0662, Training Accuracy= 0.945\n",
      "Step 390, Minibatch Loss= 1477.4403, Training Accuracy= 0.906\n",
      "Step 400, Minibatch Loss= 150.3352, Training Accuracy= 0.984\n",
      "Step 410, Minibatch Loss= 643.3137, Training Accuracy= 0.922\n",
      "Step 420, Minibatch Loss= 1020.3793, Training Accuracy= 0.938\n",
      "Step 430, Minibatch Loss= 178.9709, Training Accuracy= 0.977\n",
      "Step 440, Minibatch Loss= 639.4142, Training Accuracy= 0.953\n",
      "Step 450, Minibatch Loss= 231.1247, Training Accuracy= 0.977\n",
      "Step 460, Minibatch Loss= 344.8613, Training Accuracy= 0.945\n",
      "Step 470, Minibatch Loss= 284.2478, Training Accuracy= 0.953\n",
      "Step 480, Minibatch Loss= 754.0320, Training Accuracy= 0.961\n",
      "Step 490, Minibatch Loss= 349.9664, Training Accuracy= 0.961\n",
      "Step 500, Minibatch Loss= 298.5576, Training Accuracy= 0.961\n",
      "Testing Accuracy: 0.957031\n"
     ]
    }
   ],
   "source": [
    "## Start training\n",
    "with tf.Session() as sess:\n",
    "\n",
    " \n",
    "    ## Run the initializer\n",
    "    sess.run(init)\n",
    "    \n",
    "    for step in range(1, num_iter+1):\n",
    "        batch_x, batch_y = mnist.train.next_batch(batch_size)\n",
    "        ## Run optimization op (backprop)\n",
    "        sess.run(train_op, feed_dict={X: batch_x, Y: batch_y, keep_prob: dropout})\n",
    "        if step % display_step == 0 or step == 1:\n",
    "            ## Calculate batch loss and accuracy\n",
    "            loss, acc,summary = sess.run([loss_op, accuracy,merged], feed_dict={X: batch_x,\n",
    "                                                                 Y: batch_y,\n",
    "                                                                 keep_prob: 1.0})\n",
    "            writer.add_summary(summary,step)\n",
    "            print(\"Step \" + str(step) + \", Minibatch Loss= \" + \\\n",
    "                  \"{:.4f}\".format(loss) + \", Training Accuracy= \" + \\\n",
    "                  \"{:.3f}\".format(acc))\n",
    " \n",
    "            ##saving checkpoints after every 10 iterations\n",
    "            save_path = tf.train.Saver().save(sess, './MNIST/chkpts.ckpt', global_step=step)\n",
    "            \n",
    "    \n",
    "    ## Calculate accuracy for 256 MNIST test images\n",
    "    print(\"Testing Accuracy:\", \\\n",
    "        sess.run(accuracy, feed_dict={X: mnist.test.images[:256],\n",
    "                                      Y: mnist.test.labels[:256],\n",
    "                                      keep_prob: 1.0}))\n",
    "writer.close()"
   ]
  },
  {
   "cell_type": "code",
   "execution_count": null,
   "metadata": {
    "collapsed": true
   },
   "outputs": [],
   "source": [
    "tf.reset_default_graph()"
   ]
  },
  {
   "cell_type": "code",
   "execution_count": null,
   "metadata": {
    "collapsed": true
   },
   "outputs": [],
   "source": []
  }
 ],
 "metadata": {
  "kernelspec": {
   "display_name": "Python 2",
   "language": "python",
   "name": "python2"
  },
  "language_info": {
   "codemirror_mode": {
    "name": "ipython",
    "version": 2
   },
   "file_extension": ".py",
   "mimetype": "text/x-python",
   "name": "python",
   "nbconvert_exporter": "python",
   "pygments_lexer": "ipython2",
   "version": "2.7.14"
  }
 },
 "nbformat": 4,
 "nbformat_minor": 2
}
